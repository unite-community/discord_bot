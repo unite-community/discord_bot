{
 "cells": [
  {
   "cell_type": "code",
   "execution_count": 8,
   "metadata": {
    "ExecuteTime": {
     "end_time": "2021-01-22T11:59:26.584027Z",
     "start_time": "2021-01-22T11:59:26.574428Z"
    }
   },
   "outputs": [
    {
     "name": "stdout",
     "output_type": "stream",
     "text": [
      "Connected to infura: https://kovan.infura.io/v3/1070d8486bc64afdb9c730d6f2850d6c\n"
     ]
    }
   ],
   "source": [
    "import json\n",
    "import datetime\n",
    "from web3 import Web3\n",
    "import mysql.connector as mysql\n",
    "\n",
    "#######\n",
    "## INIT\n",
    "#######\n",
    "\n",
    "# load api key\n",
    "secret = {}\n",
    "with open('secret.txt') as f:\n",
    "    lines = f.readlines()\n",
    "    for line in lines:\n",
    "        secret[line.split(\"=\")[0]] = line.split(\"=\")[1].replace(\"\\n\",\"\")\n",
    "\n",
    "# init web3\n",
    "infura_url = secret['INFURAURL1']\n",
    "web3 = Web3(Web3.HTTPProvider(infura_url))\n",
    "print(f\"Connected to infura: {infura_url}\")"
   ]
  },
  {
   "cell_type": "code",
   "execution_count": 9,
   "metadata": {
    "ExecuteTime": {
     "end_time": "2021-01-22T11:59:27.020923Z",
     "start_time": "2021-01-22T11:59:27.015645Z"
    }
   },
   "outputs": [],
   "source": [
    "# load abi\n",
    "with open('abi_erc20.json') as f:\n",
    "    abi = json.load(f)"
   ]
  },
  {
   "cell_type": "code",
   "execution_count": 10,
   "metadata": {
    "ExecuteTime": {
     "end_time": "2021-01-22T11:59:27.470199Z",
     "start_time": "2021-01-22T11:59:27.459646Z"
    }
   },
   "outputs": [],
   "source": [
    "wallet = '0xe9540071278Dba4374A42a84B48c5e230328AeF7'\n",
    "token = '0xd6affe77bb9deaba1954ef90957100950c5e7f98'"
   ]
  },
  {
   "cell_type": "code",
   "execution_count": 11,
   "metadata": {
    "ExecuteTime": {
     "end_time": "2021-01-22T11:59:28.887586Z",
     "start_time": "2021-01-22T11:59:28.863952Z"
    }
   },
   "outputs": [],
   "source": [
    "contract = web3.eth.contract(abi=abi, address=Web3.toChecksumAddress(str(token)))"
   ]
  },
  {
   "cell_type": "code",
   "execution_count": 12,
   "metadata": {
    "ExecuteTime": {
     "end_time": "2021-01-22T11:59:29.600475Z",
     "start_time": "2021-01-22T11:59:29.597329Z"
    }
   },
   "outputs": [],
   "source": [
    "# token_symbol = str(contract.functions.symbol().call())\n",
    "# token_name = str(contract.functions.name().call())\n",
    "# print(token_symbol, token_name)"
   ]
  },
  {
   "cell_type": "code",
   "execution_count": 13,
   "metadata": {
    "ExecuteTime": {
     "end_time": "2021-01-22T11:59:33.206172Z",
     "start_time": "2021-01-22T11:59:30.940910Z"
    }
   },
   "outputs": [
    {
     "name": "stdout",
     "output_type": "stream",
     "text": [
      "wallet 0xe9540071278Dba4374A42a84B48c5e230328AeF7 has 9998156.0 tokens\n"
     ]
    }
   ],
   "source": [
    "raw_balance = contract.functions.balanceOf(wallet).call()\n",
    "balance = raw_balance/10**(contract.functions.decimals().call())\n",
    "print(f\"wallet {wallet} has {balance} tokens\")"
   ]
  },
  {
   "cell_type": "markdown",
   "metadata": {},
   "source": [
    "## define function to get balance"
   ]
  },
  {
   "cell_type": "code",
   "execution_count": 14,
   "metadata": {
    "ExecuteTime": {
     "end_time": "2021-01-22T11:59:35.292585Z",
     "start_time": "2021-01-22T11:59:35.287208Z"
    }
   },
   "outputs": [],
   "source": [
    "def get_wallet_erc20_balance(wallet, token):\n",
    "    contract = web3.eth.contract(abi=abi, address=Web3.toChecksumAddress(str(token)))\n",
    "    raw_balance = contract.functions.balanceOf(wallet).call()\n",
    "    balance = raw_balance/10**(contract.functions.decimals().call())\n",
    "    print(f\"wallet {wallet} has {balance} tokens\")\n",
    "    return balance"
   ]
  },
  {
   "cell_type": "markdown",
   "metadata": {},
   "source": [
    "# build rules logic"
   ]
  },
  {
   "cell_type": "code",
   "execution_count": 9,
   "metadata": {
    "ExecuteTime": {
     "end_time": "2021-01-19T08:17:01.359919Z",
     "start_time": "2021-01-19T08:17:01.351890Z"
    }
   },
   "outputs": [],
   "source": [
    "def select_users():\n",
    "    db = mysql.connect(host=secret['DBHOST'],user=secret['DBUSER'],passwd=secret['DBPASS'],database=secret['DBTABLE'])\n",
    "    cursor = db.cursor()\n",
    "    query = f'SELECT account_id, user_ethereum_address FROM social_accounts;'\n",
    "    cursor.execute(query)\n",
    "    records = cursor.fetchall()\n",
    "    cursor.close()\n",
    "    db.close()\n",
    "    #\n",
    "    users = []\n",
    "    for record in records:\n",
    "        users.append(dict(zip(['discord_user_id', 'ethereum_address'], record)))\n",
    "    return users"
   ]
  },
  {
   "cell_type": "code",
   "execution_count": 12,
   "metadata": {
    "ExecuteTime": {
     "end_time": "2021-01-19T08:18:03.816396Z",
     "start_time": "2021-01-19T08:18:03.810164Z"
    }
   },
   "outputs": [],
   "source": [
    "def update_user(account_id):\n",
    "    # update blockchain_write_time\n",
    "    db = mysql.connect(host=secret['DBHOST'],user=secret['DBUSER'],passwd=secret['DBPASS'],database=secret['DBTABLE'])\n",
    "    cursor = db.cursor()\n",
    "    query = \"UPDATE social_accounts SET blockchain_check_time=%s WHERE account_id=%s;\"\n",
    "    values = (str(datetime.datetime.now()).split('.')[0], account_id)\n",
    "    cursor.execute(query, values)\n",
    "    db.commit()\n",
    "    print(f\"Updated {values[1]} to {values[0]}\")\n",
    "    cursor.close()\n",
    "    db.close()  "
   ]
  },
  {
   "cell_type": "code",
   "execution_count": 10,
   "metadata": {
    "ExecuteTime": {
     "end_time": "2021-01-19T08:17:05.870001Z",
     "start_time": "2021-01-19T08:17:02.085067Z"
    }
   },
   "outputs": [],
   "source": [
    "# select rules\n",
    "rules = select_rules(795011784913715240)\n",
    "\n",
    "# select users\n",
    "users = select_users()\n",
    "\n",
    "# create list and dict for lookups\n",
    "user_ids = [int(u['discord_user_id']) for u in users]\n",
    "user_wallets = {int(u['discord_user_id']): u['ethereum_address'] for u in users}"
   ]
  },
  {
   "cell_type": "code",
   "execution_count": 26,
   "metadata": {
    "ExecuteTime": {
     "end_time": "2021-01-04T14:19:35.082836Z",
     "start_time": "2021-01-04T14:19:35.071634Z"
    }
   },
   "outputs": [],
   "source": [
    "member_ids = []\n",
    "member_ids.append(789456739023192075)\n",
    "member_ids.append(704521096837464076)\n",
    "member_ids.append(519075961891979265)"
   ]
  },
  {
   "cell_type": "code",
   "execution_count": 28,
   "metadata": {
    "ExecuteTime": {
     "end_time": "2021-01-04T14:19:43.453439Z",
     "start_time": "2021-01-04T14:19:43.449282Z"
    }
   },
   "outputs": [
    {
     "name": "stdout",
     "output_type": "stream",
     "text": [
      "User match 519075961891979265 - begin roles process\n"
     ]
    }
   ],
   "source": [
    "for member_id in member_ids:\n",
    "    if member_id in user_ids:\n",
    "        print(f\"User match {member_id} - begin roles process\")\n",
    "        \n",
    "        # get wallet for this user\n",
    "        wallet = user_wallets[member_id]\n",
    "        print(f\"Get balance for user\")\n",
    "        \n",
    "        for rule in rules:\n",
    "            # get user balance for this token\n",
    "            balance = get_wallet_erc20_balance(wallet, rule['token_address'])\n",
    "            \n",
    "            # get rule ranges\n",
    "            token_min = rule['token_min']\n",
    "            token_max = rule['token_max']\n",
    "            if token_max == None:\n",
    "                token_max = 999999999999999999\n",
    "\n",
    "            if balance >= token_min and balance <= token_max:\n",
    "                print(\"assigning role\")\n",
    "                # assign role\n",
    "                role = get(message.guild.roles, id=int(rule['role_id']))\n",
    "                member.add_roles(role)\n",
    "                print(f\"assigned {role} to {member}\")"
   ]
  },
  {
   "cell_type": "markdown",
   "metadata": {},
   "source": [
    "# bot sql queries"
   ]
  },
  {
   "cell_type": "markdown",
   "metadata": {},
   "source": [
    "## select guilds"
   ]
  },
  {
   "cell_type": "code",
   "execution_count": 45,
   "metadata": {
    "ExecuteTime": {
     "end_time": "2021-01-04T06:50:00.724391Z",
     "start_time": "2021-01-04T06:49:58.824467Z"
    }
   },
   "outputs": [],
   "source": [
    "db = mysql.connect(host=secret['DBHOST'],user=secret['DBUSER'],passwd=secret['DBPASS'],database=secret['DBTABLE'])\n",
    "cursor = db.cursor()\n",
    "query = f'SELECT guild_id, guild_name, unite_setup_channel_id, created_at FROM discord_guilds;'\n",
    "cursor.execute(query)\n",
    "records = cursor.fetchall()\n",
    "cursor.close()\n",
    "db.close()\n",
    "#\n",
    "guilds = []\n",
    "for record in records:\n",
    "    guilds.append(dict(zip(['guild_id', 'guild_name', 'unite_setup_channel_id', 'created_at'], record)))"
   ]
  },
  {
   "cell_type": "markdown",
   "metadata": {},
   "source": [
    "## select list of unite setup channels"
   ]
  },
  {
   "cell_type": "code",
   "execution_count": 47,
   "metadata": {
    "ExecuteTime": {
     "end_time": "2021-01-04T06:52:31.350813Z",
     "start_time": "2021-01-04T06:52:29.500026Z"
    }
   },
   "outputs": [],
   "source": [
    "db = mysql.connect(host=secret['DBHOST'],user=secret['DBUSER'],passwd=secret['DBPASS'],database=secret['DBTABLE'])\n",
    "cursor = db.cursor()\n",
    "query = f'SELECT distinct(unite_setup_channel_id) FROM discord_guilds;'\n",
    "cursor.execute(query)\n",
    "records = cursor.fetchall()\n",
    "cursor.close()\n",
    "db.close()\n",
    "#\n",
    "unite_setup_channels = []\n",
    "for record in records:\n",
    "    unite_setup_channels.append(record[0])"
   ]
  },
  {
   "cell_type": "markdown",
   "metadata": {},
   "source": [
    "## insert guild"
   ]
  },
  {
   "cell_type": "code",
   "execution_count": 44,
   "metadata": {
    "ExecuteTime": {
     "end_time": "2021-01-04T06:49:49.859393Z",
     "start_time": "2021-01-04T06:49:47.851984Z"
    }
   },
   "outputs": [
    {
     "name": "stdout",
     "output_type": "stream",
     "text": [
      "1 record inserted\n"
     ]
    }
   ],
   "source": [
    "db = mysql.connect(host=secret['DBHOST'],user=secret['DBUSER'],passwd=secret['DBPASS'],database=secret['DBTABLE'])\n",
    "cursor = db.cursor()\n",
    "query = \"INSERT INTO discord_guilds (guild_id, guild_name, unite_setup_channel_id, created_at) VALUES (%s, %s, %s, %s);\"\n",
    "values = (1337, \"test_guild\", 1234, str(datetime.datetime.now()).split('.')[0])\n",
    "cursor.execute(query, values)\n",
    "db.commit()\n",
    "print(cursor.rowcount, \"record inserted\")\n",
    "cursor.close()\n",
    "db.close()"
   ]
  },
  {
   "cell_type": "markdown",
   "metadata": {},
   "source": [
    "## insert rule"
   ]
  },
  {
   "cell_type": "code",
   "execution_count": 79,
   "metadata": {
    "ExecuteTime": {
     "end_time": "2021-01-04T08:17:49.606625Z",
     "start_time": "2021-01-04T08:17:49.603267Z"
    }
   },
   "outputs": [],
   "source": [
    "guild_id = 1234\n",
    "token_address = \"0x1234\"\n",
    "token_min = 5\n",
    "token_max = None\n",
    "role_id = '795012514324807682'\n",
    "role_name = \"level 1\""
   ]
  },
  {
   "cell_type": "code",
   "execution_count": 80,
   "metadata": {
    "ExecuteTime": {
     "end_time": "2021-01-04T08:17:53.122640Z",
     "start_time": "2021-01-04T08:17:49.746356Z"
    }
   },
   "outputs": [
    {
     "name": "stdout",
     "output_type": "stream",
     "text": [
      "1 record inserted\n"
     ]
    }
   ],
   "source": [
    "db = mysql.connect(host=secret['DBHOST'],user=secret['DBUSER'],passwd=secret['DBPASS'],database=secret['DBTABLE'])\n",
    "cursor = db.cursor()\n",
    "query = \"INSERT INTO discord_rules (guild_id, token_address, token_min, token_max, role_id, role_name, created_at) VALUES (%s, %s, %s, %s, %s, %s, %s);\"\n",
    "values = (guild_id, token_address, token_min, token_max, role_id, role_name, str(datetime.datetime.now()).split('.')[0])\n",
    "cursor.execute(query, values)\n",
    "db.commit()\n",
    "print(cursor.rowcount, \"record inserted\")\n",
    "cursor.close()\n",
    "db.close()"
   ]
  },
  {
   "cell_type": "markdown",
   "metadata": {},
   "source": [
    "## select rules"
   ]
  },
  {
   "cell_type": "code",
   "execution_count": 16,
   "metadata": {
    "ExecuteTime": {
     "end_time": "2021-01-22T13:18:14.353231Z",
     "start_time": "2021-01-22T13:18:14.349385Z"
    }
   },
   "outputs": [],
   "source": [
    "guild_id = 795011784913715240"
   ]
  },
  {
   "cell_type": "code",
   "execution_count": 17,
   "metadata": {
    "ExecuteTime": {
     "end_time": "2021-01-22T13:18:19.227700Z",
     "start_time": "2021-01-22T13:18:15.025071Z"
    }
   },
   "outputs": [],
   "source": [
    "db = mysql.connect(host=secret['DBHOST'],user=secret['DBUSER'],passwd=secret['DBPASS'],database=secret['DBTABLE'])\n",
    "cursor = db.cursor()\n",
    "query = f'SELECT token_address, token_min, token_max, role_id, role_name FROM discord_rules where guild_id = {guild_id};'\n",
    "cursor.execute(query)\n",
    "records = cursor.fetchall()\n",
    "cursor.close()\n",
    "db.close()\n",
    "#\n",
    "rules = []\n",
    "for record in records:\n",
    "    rule = dict(zip(['token_address', 'token_min', 'token_max', 'role_id', 'role_name'], record))\n",
    "    rules.append(rule)"
   ]
  },
  {
   "cell_type": "code",
   "execution_count": 18,
   "metadata": {
    "ExecuteTime": {
     "end_time": "2021-01-22T13:18:23.631382Z",
     "start_time": "2021-01-22T13:18:23.622378Z"
    }
   },
   "outputs": [
    {
     "data": {
      "text/plain": [
       "[{'token_address': '0x2d7d8ba156897838eb738c50c3d56e2e5a5f7363',\n",
       "  'token_min': 1,\n",
       "  'token_max': 100,\n",
       "  'role_id': '795012514324807682',\n",
       "  'role_name': 'members'},\n",
       " {'token_address': '0x2d7d8ba156897838eb738c50c3d56e2e5a5f7363',\n",
       "  'token_min': 100,\n",
       "  'token_max': 150,\n",
       "  'role_id': '1337',\n",
       "  'role_name': 'top'}]"
      ]
     },
     "execution_count": 18,
     "metadata": {},
     "output_type": "execute_result"
    }
   ],
   "source": [
    "rules"
   ]
  },
  {
   "cell_type": "code",
   "execution_count": 19,
   "metadata": {
    "ExecuteTime": {
     "end_time": "2021-01-22T13:18:24.326704Z",
     "start_time": "2021-01-22T13:18:24.322963Z"
    }
   },
   "outputs": [],
   "source": [
    "# get unique list of tokens\n",
    "guild_token_addresses = [r['token_address'] for r in rules]\n",
    "guild_token_addresses = list(set(token_addresses))"
   ]
  },
  {
   "cell_type": "code",
   "execution_count": 22,
   "metadata": {
    "ExecuteTime": {
     "end_time": "2021-01-22T13:19:17.047967Z",
     "start_time": "2021-01-22T13:19:17.042201Z"
    }
   },
   "outputs": [
    {
     "data": {
      "text/plain": [
       "['1337', '795012514324807682']"
      ]
     },
     "execution_count": 22,
     "metadata": {},
     "output_type": "execute_result"
    }
   ],
   "source": [
    "# get unique list of roles across rules\n",
    "roles_for_rules = [r['role_id'] for r in rules]\n",
    "roles_for_rules = list(set(roles_for_rules))\n",
    "roles_for_rules"
   ]
  },
  {
   "cell_type": "markdown",
   "metadata": {},
   "source": [
    "## reset rules"
   ]
  },
  {
   "cell_type": "code",
   "execution_count": 81,
   "metadata": {
    "ExecuteTime": {
     "end_time": "2021-01-04T08:17:59.891332Z",
     "start_time": "2021-01-04T08:17:59.886113Z"
    }
   },
   "outputs": [
    {
     "data": {
      "text/plain": [
       "1234"
      ]
     },
     "execution_count": 81,
     "metadata": {},
     "output_type": "execute_result"
    }
   ],
   "source": [
    "guild_id = 1234"
   ]
  },
  {
   "cell_type": "code",
   "execution_count": 83,
   "metadata": {
    "ExecuteTime": {
     "end_time": "2021-01-04T08:18:53.965615Z",
     "start_time": "2021-01-04T08:18:50.847038Z"
    }
   },
   "outputs": [
    {
     "name": "stdout",
     "output_type": "stream",
     "text": [
      "1 record deleted\n"
     ]
    }
   ],
   "source": [
    "db = mysql.connect(host=secret['DBHOST'],user=secret['DBUSER'],passwd=secret['DBPASS'],database=secret['DBTABLE'])\n",
    "cursor = db.cursor()\n",
    "query = \"DELETE from discord_rules where guild_id = %s;\"\n",
    "values = (str(guild_id),)\n",
    "cursor.execute(query, values)\n",
    "db.commit()\n",
    "print(cursor.rowcount, \"record deleted\")\n",
    "cursor.close()\n",
    "db.close()"
   ]
  },
  {
   "cell_type": "markdown",
   "metadata": {},
   "source": [
    "## select users"
   ]
  },
  {
   "cell_type": "code",
   "execution_count": 6,
   "metadata": {
    "ExecuteTime": {
     "end_time": "2021-01-19T08:15:37.052713Z",
     "start_time": "2021-01-19T08:15:35.165844Z"
    }
   },
   "outputs": [],
   "source": [
    "db = mysql.connect(host=secret['DBHOST'],user=secret['DBUSER'],passwd=secret['DBPASS'],database=secret['DBTABLE'])\n",
    "cursor = db.cursor()\n",
    "query = f'SELECT account_id, user_ethereum_address FROM social_accounts;'\n",
    "cursor.execute(query)\n",
    "records = cursor.fetchall()\n",
    "cursor.close()\n",
    "db.close()\n",
    "#\n",
    "users = []\n",
    "for record in records:\n",
    "    users.append(dict(zip(['account_id', 'ethereum_address'], record)))"
   ]
  },
  {
   "cell_type": "code",
   "execution_count": 7,
   "metadata": {
    "ExecuteTime": {
     "end_time": "2021-01-19T08:15:37.091123Z",
     "start_time": "2021-01-19T08:15:37.086624Z"
    }
   },
   "outputs": [],
   "source": [
    "user_ids = [u['account_id'] for u in users]"
   ]
  },
  {
   "cell_type": "code",
   "execution_count": 8,
   "metadata": {
    "ExecuteTime": {
     "end_time": "2021-01-19T08:15:37.114361Z",
     "start_time": "2021-01-19T08:15:37.110109Z"
    }
   },
   "outputs": [
    {
     "data": {
      "text/plain": [
       "['396286449705680906', '519075961891979265']"
      ]
     },
     "execution_count": 8,
     "metadata": {},
     "output_type": "execute_result"
    }
   ],
   "source": [
    "user_ids"
   ]
  },
  {
   "cell_type": "code",
   "execution_count": 13,
   "metadata": {
    "ExecuteTime": {
     "end_time": "2021-01-04T14:15:36.604139Z",
     "start_time": "2021-01-04T14:15:36.596714Z"
    }
   },
   "outputs": [
    {
     "data": {
      "text/plain": [
       "[{'discord_user_id': '519075961891979265',\n",
       "  'discord_user_name': 'Alex Conway#3235',\n",
       "  'ethereum_address': '0x3708045C19c4D0eaB69289F8BC10D4a1fF4EDc6a'}]"
      ]
     },
     "execution_count": 13,
     "metadata": {},
     "output_type": "execute_result"
    }
   ],
   "source": [
    "users"
   ]
  },
  {
   "cell_type": "markdown",
   "metadata": {},
   "source": [
    "## update user on discord_user_wallets table"
   ]
  },
  {
   "cell_type": "code",
   "execution_count": 12,
   "metadata": {
    "ExecuteTime": {
     "end_time": "2021-01-15T16:04:17.516008Z",
     "start_time": "2021-01-15T16:04:17.504073Z"
    }
   },
   "outputs": [],
   "source": [
    "discord_user_id = 519075961891979265"
   ]
  },
  {
   "cell_type": "code",
   "execution_count": 16,
   "metadata": {
    "ExecuteTime": {
     "end_time": "2021-01-15T16:05:07.084741Z",
     "start_time": "2021-01-15T16:05:04.934431Z"
    }
   },
   "outputs": [
    {
     "name": "stdout",
     "output_type": "stream",
     "text": [
      "1 record updated\n"
     ]
    }
   ],
   "source": [
    "# update blockchain_write_time\n",
    "db = mysql.connect(host=secret['DBHOST'],user=secret['DBUSER'],passwd=secret['DBPASS'],database=secret['DBTABLE'])\n",
    "cursor = db.cursor()\n",
    "query = \"UPDATE discord_user_wallets SET updated_at=%s WHERE discord_user_id=%s;\"\n",
    "values = (str(datetime.datetime.now()).split('.')[0], discord_user_id)\n",
    "cursor.execute(query, values)\n",
    "db.commit()\n",
    "print(cursor.rowcount, \"record updated\")\n",
    "cursor.close()\n",
    "db.close()  "
   ]
  },
  {
   "cell_type": "markdown",
   "metadata": {},
   "source": [
    "## select rules for guild"
   ]
  },
  {
   "cell_type": "code",
   "execution_count": null,
   "metadata": {},
   "outputs": [],
   "source": []
  },
  {
   "cell_type": "code",
   "execution_count": null,
   "metadata": {},
   "outputs": [],
   "source": []
  },
  {
   "cell_type": "markdown",
   "metadata": {},
   "source": [
    "## get users to be updated"
   ]
  },
  {
   "cell_type": "markdown",
   "metadata": {},
   "source": [
    "> get users with null check time or check time older than x hours"
   ]
  },
  {
   "cell_type": "code",
   "execution_count": null,
   "metadata": {},
   "outputs": [],
   "source": [
    "# SELECT * FROM unite_staging.social_accounts WHERE (blockchain_check_time <= \"2021-01-20 10:18:16\" OR blockchain_check_time IS NULL);"
   ]
  },
  {
   "cell_type": "code",
   "execution_count": 17,
   "metadata": {
    "ExecuteTime": {
     "end_time": "2021-01-19T08:32:14.036041Z",
     "start_time": "2021-01-19T08:32:14.032625Z"
    }
   },
   "outputs": [],
   "source": [
    "from datetime import timedelta"
   ]
  },
  {
   "cell_type": "code",
   "execution_count": 20,
   "metadata": {
    "ExecuteTime": {
     "end_time": "2021-01-19T08:33:22.684104Z",
     "start_time": "2021-01-19T08:33:22.680201Z"
    }
   },
   "outputs": [],
   "source": [
    "datetime_check = datetime.datetime.now() - timedelta(hours=4)\n",
    "\n",
    "db = mysql.connect(host=secret['DBHOST'],user=secret['DBUSER'],passwd=secret['DBPASS'],database=secret['DBTABLE'])\n",
    "cursor = db.cursor()\n",
    "query = f'SELECT account_id, user_ethereum_address FROM unite_staging.social_accounts WHERE (blockchain_check_time <= \"{str(datetime_check)}\" OR blockchain_check_time IS NULL);;'\n",
    "cursor.execute(query)\n",
    "records = cursor.fetchall()\n",
    "cursor.close()\n",
    "db.close()\n",
    "\n",
    "users = []\n",
    "for record in records:\n",
    "    users.append(dict(zip(['account_id', 'ethereum_address'], record)))"
   ]
  },
  {
   "cell_type": "code",
   "execution_count": 30,
   "metadata": {
    "ExecuteTime": {
     "end_time": "2021-01-19T08:36:32.077243Z",
     "start_time": "2021-01-19T08:36:32.071046Z"
    }
   },
   "outputs": [],
   "source": [
    "def select_users_to_check(hours_ago=4):\n",
    "    datetime_check = datetime.datetime.now() - timedelta(hours=hours_ago)\n",
    "\n",
    "    db = mysql.connect(host=secret['DBHOST'],user=secret['DBUSER'],passwd=secret['DBPASS'],database=secret['DBTABLE'])\n",
    "    cursor = db.cursor()\n",
    "    query = f'SELECT account_id, user_ethereum_address FROM unite_staging.social_accounts WHERE (blockchain_check_time <= \"{str(datetime_check)}\" OR blockchain_check_time IS NULL);;'\n",
    "    cursor.execute(query)\n",
    "    records = cursor.fetchall()\n",
    "    cursor.close()\n",
    "    db.close()\n",
    "\n",
    "    users = []\n",
    "    for record in records:\n",
    "        users.append(dict(zip(['account_id', 'ethereum_address'], record)))\n",
    "\n",
    "    return users"
   ]
  },
  {
   "cell_type": "markdown",
   "metadata": {
    "heading_collapsed": true
   },
   "source": [
    "# Build update process"
   ]
  },
  {
   "cell_type": "code",
   "execution_count": 34,
   "metadata": {
    "ExecuteTime": {
     "end_time": "2021-01-19T08:42:51.262621Z",
     "start_time": "2021-01-19T08:42:49.376142Z"
    },
    "hidden": true
   },
   "outputs": [],
   "source": [
    "# select users\n",
    "users = select_users_to_check()\n",
    "\n",
    "# create list and dict for lookups\n",
    "user_ids = [int(u['account_id']) for u in users]\n",
    "user_wallets = {int(u['account_id']): u['ethereum_address'] for u in users}"
   ]
  },
  {
   "cell_type": "code",
   "execution_count": null,
   "metadata": {
    "hidden": true
   },
   "outputs": [],
   "source": []
  },
  {
   "cell_type": "code",
   "execution_count": null,
   "metadata": {
    "hidden": true
   },
   "outputs": [],
   "source": []
  },
  {
   "cell_type": "code",
   "execution_count": null,
   "metadata": {
    "hidden": true
   },
   "outputs": [],
   "source": [
    "# for member_id in member_ids:\n",
    "#     if member_id in user_ids:\n",
    "#         print(f\"User match {member_id} - begin roles process\")\n",
    "        \n",
    "#         # get wallet for this user\n",
    "#         wallet = user_wallets[member_id]\n",
    "#         print(f\"Get balance for user\")\n",
    "        \n",
    "#         for rule in rules:\n",
    "#             # get user balance for this token\n",
    "#             balance = get_wallet_erc20_balance(wallet, rule['token_address'])\n",
    "            \n",
    "#             # get rule ranges\n",
    "#             token_min = rule['token_min']\n",
    "#             token_max = rule['token_max']\n",
    "#             if token_max == None:\n",
    "#                 token_max = 999999999999999999\n",
    "\n",
    "#             if balance >= token_min and balance <= token_max:\n",
    "#                 print(\"assigning role\")\n",
    "#                 # assign role\n",
    "#                 role = get(message.guild.roles, id=int(rule['role_id']))\n",
    "#                 member.add_roles(role)\n",
    "#                 print(f\"assigned {role} to {member}\")"
   ]
  },
  {
   "cell_type": "code",
   "execution_count": null,
   "metadata": {
    "hidden": true
   },
   "outputs": [],
   "source": []
  }
 ],
 "metadata": {
  "kernelspec": {
   "display_name": "Python 3",
   "language": "python",
   "name": "python3"
  },
  "language_info": {
   "codemirror_mode": {
    "name": "ipython",
    "version": 3
   },
   "file_extension": ".py",
   "mimetype": "text/x-python",
   "name": "python",
   "nbconvert_exporter": "python",
   "pygments_lexer": "ipython3",
   "version": "3.7.7"
  },
  "varInspector": {
   "cols": {
    "lenName": 16,
    "lenType": 16,
    "lenVar": 40
   },
   "kernels_config": {
    "python": {
     "delete_cmd_postfix": "",
     "delete_cmd_prefix": "del ",
     "library": "var_list.py",
     "varRefreshCmd": "print(var_dic_list())"
    },
    "r": {
     "delete_cmd_postfix": ") ",
     "delete_cmd_prefix": "rm(",
     "library": "var_list.r",
     "varRefreshCmd": "cat(var_dic_list()) "
    }
   },
   "types_to_exclude": [
    "module",
    "function",
    "builtin_function_or_method",
    "instance",
    "_Feature"
   ],
   "window_display": false
  }
 },
 "nbformat": 4,
 "nbformat_minor": 4
}
