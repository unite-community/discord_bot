{
 "cells": [
  {
   "cell_type": "code",
   "execution_count": 8,
   "metadata": {
    "ExecuteTime": {
     "end_time": "2021-01-04T14:13:08.234386Z",
     "start_time": "2021-01-04T14:13:08.227032Z"
    }
   },
   "outputs": [],
   "source": [
    "from database import select_unite_setup_channel_ids, insert_guild, insert_rule, select_rules, reset_rules"
   ]
  },
  {
   "cell_type": "code",
   "execution_count": 1,
   "metadata": {
    "ExecuteTime": {
     "end_time": "2021-01-04T14:07:02.879781Z",
     "start_time": "2021-01-04T14:07:01.287006Z"
    }
   },
   "outputs": [
    {
     "name": "stderr",
     "output_type": "stream",
     "text": [
      "Consider installing rusty-rlp to improve pyrlp performance with a rust based backend\n"
     ]
    },
    {
     "name": "stdout",
     "output_type": "stream",
     "text": [
      "Connected to infura: https://mainnet.infura.io/v3/1070d8486bc64afdb9c730d6f2850d6c\n"
     ]
    }
   ],
   "source": [
    "import json\n",
    "import datetime\n",
    "from web3 import Web3\n",
    "import mysql.connector as mysql\n",
    "\n",
    "#######\n",
    "## INIT\n",
    "#######\n",
    "\n",
    "# load api key\n",
    "secret = {}\n",
    "with open('secret.txt') as f:\n",
    "    lines = f.readlines()\n",
    "    for line in lines:\n",
    "        secret[line.split(\"=\")[0]] = line.split(\"=\")[1].replace(\"\\n\",\"\")\n",
    "\n",
    "# init web3\n",
    "infura_url = secret['INFURAURL1']\n",
    "web3 = Web3(Web3.HTTPProvider(infura_url))\n",
    "print(f\"Connected to infura: {infura_url}\")"
   ]
  },
  {
   "cell_type": "code",
   "execution_count": 3,
   "metadata": {
    "ExecuteTime": {
     "end_time": "2021-01-04T14:07:18.100433Z",
     "start_time": "2021-01-04T14:07:18.097025Z"
    }
   },
   "outputs": [],
   "source": [
    "# load abi\n",
    "with open('abi_erc20.json') as f:\n",
    "    abi = json.load(f)"
   ]
  },
  {
   "cell_type": "code",
   "execution_count": 4,
   "metadata": {
    "ExecuteTime": {
     "end_time": "2021-01-04T14:07:21.321222Z",
     "start_time": "2021-01-04T14:07:21.317768Z"
    }
   },
   "outputs": [],
   "source": [
    "wallet = '0x3708045C19c4D0eaB69289F8BC10D4a1fF4EDc6a'\n",
    "token = '0x0954906da0Bf32d5479e25f46056d22f08464cab'"
   ]
  },
  {
   "cell_type": "code",
   "execution_count": 5,
   "metadata": {
    "ExecuteTime": {
     "end_time": "2021-01-04T14:07:21.882941Z",
     "start_time": "2021-01-04T14:07:21.864959Z"
    }
   },
   "outputs": [],
   "source": [
    "contract = web3.eth.contract(abi=abi, address=Web3.toChecksumAddress(str(token)))"
   ]
  },
  {
   "cell_type": "code",
   "execution_count": 6,
   "metadata": {
    "ExecuteTime": {
     "end_time": "2021-01-04T14:07:25.114718Z",
     "start_time": "2021-01-04T14:07:23.383770Z"
    }
   },
   "outputs": [
    {
     "name": "stdout",
     "output_type": "stream",
     "text": [
      "INDEX Index\n"
     ]
    }
   ],
   "source": [
    "# token_symbol = str(contract.functions.symbol().call())\n",
    "# token_name = str(contract.functions.name().call())\n",
    "# print(token_symbol, token_name)"
   ]
  },
  {
   "cell_type": "code",
   "execution_count": 7,
   "metadata": {
    "ExecuteTime": {
     "end_time": "2021-01-04T14:07:27.192367Z",
     "start_time": "2021-01-04T14:07:26.478115Z"
    }
   },
   "outputs": [
    {
     "name": "stdout",
     "output_type": "stream",
     "text": [
      "wallet 0x3708045C19c4D0eaB69289F8BC10D4a1fF4EDc6a has 271.78937788270594 tokens\n"
     ]
    }
   ],
   "source": [
    "raw_balance = contract.functions.balanceOf(wallet).call()\n",
    "balance = raw_balance/10**(contract.functions.decimals().call())\n",
    "print(f\"wallet {wallet} has {balance} tokens\")"
   ]
  },
  {
   "cell_type": "markdown",
   "metadata": {},
   "source": [
    "## define function to get balance"
   ]
  },
  {
   "cell_type": "code",
   "execution_count": 39,
   "metadata": {
    "ExecuteTime": {
     "end_time": "2021-01-04T14:25:48.589720Z",
     "start_time": "2021-01-04T14:25:48.584754Z"
    }
   },
   "outputs": [],
   "source": [
    "def get_wallet_erc20_balance(wallet, token):\n",
    "    contract = web3.eth.contract(abi=abi, address=Web3.toChecksumAddress(str(token)))\n",
    "    raw_balance = contract.functions.balanceOf(wallet).call()\n",
    "    balance = raw_balance/10**(contract.functions.decimals().call())\n",
    "    print(f\"wallet {wallet} has {balance} tokens\")\n",
    "    return balance"
   ]
  },
  {
   "cell_type": "markdown",
   "metadata": {},
   "source": [
    "# build rules logic"
   ]
  },
  {
   "cell_type": "code",
   "execution_count": 18,
   "metadata": {
    "ExecuteTime": {
     "end_time": "2021-01-04T14:17:15.271413Z",
     "start_time": "2021-01-04T14:17:15.265071Z"
    }
   },
   "outputs": [],
   "source": [
    "def select_users():\n",
    "    db = mysql.connect(host=secret['DBHOST'],user=secret['DBUSER'],passwd=secret['DBPASS'],database=secret['DBTABLE'])\n",
    "    cursor = db.cursor()\n",
    "    query = f'SELECT discord_user_id, discord_user_name, ethereum_address FROM discord_user_wallets;'\n",
    "    cursor.execute(query)\n",
    "    records = cursor.fetchall()\n",
    "    cursor.close()\n",
    "    db.close()\n",
    "    #\n",
    "    users = []\n",
    "    for record in records:\n",
    "        users.append(dict(zip(['discord_user_id', 'discord_user_name', 'ethereum_address'], record)))\n",
    "    return users"
   ]
  },
  {
   "cell_type": "code",
   "execution_count": 57,
   "metadata": {
    "ExecuteTime": {
     "end_time": "2021-01-04T14:31:45.472005Z",
     "start_time": "2021-01-04T14:31:43.652445Z"
    }
   },
   "outputs": [],
   "source": [
    "# select rules\n",
    "rules = select_rules(795011784913715240)\n",
    "\n",
    "# select users\n",
    "users = select_users()\n",
    "\n",
    "# create list and dict for lookups\n",
    "user_ids = [int(u['discord_user_id']) for u in users]\n",
    "user_wallets = {int(u['discord_user_id']): u['ethereum_address'] for u in users}"
   ]
  },
  {
   "cell_type": "code",
   "execution_count": 26,
   "metadata": {
    "ExecuteTime": {
     "end_time": "2021-01-04T14:19:35.082836Z",
     "start_time": "2021-01-04T14:19:35.071634Z"
    }
   },
   "outputs": [],
   "source": [
    "member_ids = []\n",
    "member_ids.append(789456739023192075)\n",
    "member_ids.append(704521096837464076)\n",
    "member_ids.append(519075961891979265)"
   ]
  },
  {
   "cell_type": "code",
   "execution_count": 28,
   "metadata": {
    "ExecuteTime": {
     "end_time": "2021-01-04T14:19:43.453439Z",
     "start_time": "2021-01-04T14:19:43.449282Z"
    }
   },
   "outputs": [
    {
     "name": "stdout",
     "output_type": "stream",
     "text": [
      "User match 519075961891979265 - begin roles process\n"
     ]
    }
   ],
   "source": [
    "for member_id in member_ids:\n",
    "    if member_id in user_ids:\n",
    "        print(f\"User match {member_id} - begin roles process\")\n",
    "        \n",
    "        # get wallet for this user\n",
    "        wallet = user_wallets[member_id]\n",
    "        print(f\"Get balance for user\")\n",
    "        \n",
    "        for rule in rules:\n",
    "            # get user balance for this token\n",
    "            balance = get_wallet_erc20_balance(wallet, rule['token_address'])\n",
    "            \n",
    "            # get rule ranges\n",
    "            token_min = rule['token_min']\n",
    "            token_max = rule['token_max']\n",
    "            if token_max == None:\n",
    "                token_max = 999999999999999999\n",
    "\n",
    "            if balance >= token_min and balance <= token_max:\n",
    "                print(\"assigning role\")\n",
    "                # assign role\n",
    "                role = get(message.guild.roles, id=int(rule['role_id']))\n",
    "                member.add_roles(role)\n",
    "                print(f\"assigned {role} to {member}\")"
   ]
  },
  {
   "cell_type": "code",
   "execution_count": 61,
   "metadata": {
    "ExecuteTime": {
     "end_time": "2021-01-04T14:32:05.206179Z",
     "start_time": "2021-01-04T14:32:05.202029Z"
    }
   },
   "outputs": [],
   "source": [
    "rule = rules[0]"
   ]
  },
  {
   "cell_type": "code",
   "execution_count": 47,
   "metadata": {
    "ExecuteTime": {
     "end_time": "2021-01-04T14:27:18.378799Z",
     "start_time": "2021-01-04T14:27:17.476208Z"
    }
   },
   "outputs": [
    {
     "name": "stdout",
     "output_type": "stream",
     "text": [
      "wallet 0x3708045C19c4D0eaB69289F8BC10D4a1fF4EDc6a has 100.0 tokens\n"
     ]
    }
   ],
   "source": [
    "# get user balance for this token\n",
    "balance = get_wallet_erc20_balance(wallet, rule['token_address'])"
   ]
  },
  {
   "cell_type": "code",
   "execution_count": 62,
   "metadata": {
    "ExecuteTime": {
     "end_time": "2021-01-04T14:32:06.637490Z",
     "start_time": "2021-01-04T14:32:06.632792Z"
    }
   },
   "outputs": [],
   "source": []
  },
  {
   "cell_type": "code",
   "execution_count": null,
   "metadata": {},
   "outputs": [],
   "source": []
  },
  {
   "cell_type": "code",
   "execution_count": null,
   "metadata": {},
   "outputs": [],
   "source": []
  },
  {
   "cell_type": "code",
   "execution_count": null,
   "metadata": {},
   "outputs": [],
   "source": []
  },
  {
   "cell_type": "code",
   "execution_count": null,
   "metadata": {},
   "outputs": [],
   "source": []
  },
  {
   "cell_type": "code",
   "execution_count": null,
   "metadata": {},
   "outputs": [],
   "source": []
  },
  {
   "cell_type": "code",
   "execution_count": 35,
   "metadata": {
    "ExecuteTime": {
     "end_time": "2021-01-04T14:21:16.978440Z",
     "start_time": "2021-01-04T14:21:16.960387Z"
    }
   },
   "outputs": [],
   "source": []
  },
  {
   "cell_type": "code",
   "execution_count": null,
   "metadata": {},
   "outputs": [],
   "source": []
  },
  {
   "cell_type": "code",
   "execution_count": null,
   "metadata": {},
   "outputs": [],
   "source": []
  },
  {
   "cell_type": "code",
   "execution_count": null,
   "metadata": {},
   "outputs": [],
   "source": []
  },
  {
   "cell_type": "markdown",
   "metadata": {},
   "source": [
    "# bot sql queries"
   ]
  },
  {
   "cell_type": "markdown",
   "metadata": {},
   "source": [
    "## select guilds"
   ]
  },
  {
   "cell_type": "code",
   "execution_count": 45,
   "metadata": {
    "ExecuteTime": {
     "end_time": "2021-01-04T06:50:00.724391Z",
     "start_time": "2021-01-04T06:49:58.824467Z"
    }
   },
   "outputs": [],
   "source": [
    "db = mysql.connect(host=secret['DBHOST'],user=secret['DBUSER'],passwd=secret['DBPASS'],database=secret['DBTABLE'])\n",
    "cursor = db.cursor()\n",
    "query = f'SELECT guild_id, guild_name, unite_setup_channel_id, created_at FROM discord_guilds;'\n",
    "cursor.execute(query)\n",
    "records = cursor.fetchall()\n",
    "cursor.close()\n",
    "db.close()\n",
    "#\n",
    "guilds = []\n",
    "for record in records:\n",
    "    guilds.append(dict(zip(['guild_id', 'guild_name', 'unite_setup_channel_id', 'created_at'], record)))"
   ]
  },
  {
   "cell_type": "markdown",
   "metadata": {},
   "source": [
    "## select list of unite setup channels"
   ]
  },
  {
   "cell_type": "code",
   "execution_count": 47,
   "metadata": {
    "ExecuteTime": {
     "end_time": "2021-01-04T06:52:31.350813Z",
     "start_time": "2021-01-04T06:52:29.500026Z"
    }
   },
   "outputs": [],
   "source": [
    "db = mysql.connect(host=secret['DBHOST'],user=secret['DBUSER'],passwd=secret['DBPASS'],database=secret['DBTABLE'])\n",
    "cursor = db.cursor()\n",
    "query = f'SELECT distinct(unite_setup_channel_id) FROM discord_guilds;'\n",
    "cursor.execute(query)\n",
    "records = cursor.fetchall()\n",
    "cursor.close()\n",
    "db.close()\n",
    "#\n",
    "unite_setup_channels = []\n",
    "for record in records:\n",
    "    unite_setup_channels.append(record[0])"
   ]
  },
  {
   "cell_type": "markdown",
   "metadata": {},
   "source": [
    "## insert guild"
   ]
  },
  {
   "cell_type": "code",
   "execution_count": 44,
   "metadata": {
    "ExecuteTime": {
     "end_time": "2021-01-04T06:49:49.859393Z",
     "start_time": "2021-01-04T06:49:47.851984Z"
    }
   },
   "outputs": [
    {
     "name": "stdout",
     "output_type": "stream",
     "text": [
      "1 record inserted\n"
     ]
    }
   ],
   "source": [
    "db = mysql.connect(host=secret['DBHOST'],user=secret['DBUSER'],passwd=secret['DBPASS'],database=secret['DBTABLE'])\n",
    "cursor = db.cursor()\n",
    "query = \"INSERT INTO discord_guilds (guild_id, guild_name, unite_setup_channel_id, created_at) VALUES (%s, %s, %s, %s);\"\n",
    "values = (1337, \"test_guild\", 1234, str(datetime.datetime.now()).split('.')[0])\n",
    "cursor.execute(query, values)\n",
    "db.commit()\n",
    "print(cursor.rowcount, \"record inserted\")\n",
    "cursor.close()\n",
    "db.close()"
   ]
  },
  {
   "cell_type": "markdown",
   "metadata": {},
   "source": [
    "## insert rule"
   ]
  },
  {
   "cell_type": "code",
   "execution_count": 79,
   "metadata": {
    "ExecuteTime": {
     "end_time": "2021-01-04T08:17:49.606625Z",
     "start_time": "2021-01-04T08:17:49.603267Z"
    }
   },
   "outputs": [],
   "source": [
    "guild_id = 1234\n",
    "token_address = \"0x1234\"\n",
    "token_min = 5\n",
    "token_max = None\n",
    "role_id = '795012514324807682'\n",
    "role_name = \"level 1\""
   ]
  },
  {
   "cell_type": "code",
   "execution_count": 80,
   "metadata": {
    "ExecuteTime": {
     "end_time": "2021-01-04T08:17:53.122640Z",
     "start_time": "2021-01-04T08:17:49.746356Z"
    }
   },
   "outputs": [
    {
     "name": "stdout",
     "output_type": "stream",
     "text": [
      "1 record inserted\n"
     ]
    }
   ],
   "source": [
    "db = mysql.connect(host=secret['DBHOST'],user=secret['DBUSER'],passwd=secret['DBPASS'],database=secret['DBTABLE'])\n",
    "cursor = db.cursor()\n",
    "query = \"INSERT INTO discord_rules (guild_id, token_address, token_min, token_max, role_id, role_name, created_at) VALUES (%s, %s, %s, %s, %s, %s, %s);\"\n",
    "values = (guild_id, token_address, token_min, token_max, role_id, role_name, str(datetime.datetime.now()).split('.')[0])\n",
    "cursor.execute(query, values)\n",
    "db.commit()\n",
    "print(cursor.rowcount, \"record inserted\")\n",
    "cursor.close()\n",
    "db.close()"
   ]
  },
  {
   "cell_type": "markdown",
   "metadata": {},
   "source": [
    "## select rules"
   ]
  },
  {
   "cell_type": "code",
   "execution_count": 54,
   "metadata": {
    "ExecuteTime": {
     "end_time": "2021-01-04T07:54:16.942551Z",
     "start_time": "2021-01-04T07:54:16.940143Z"
    }
   },
   "outputs": [],
   "source": [
    "guild_id = 1234"
   ]
  },
  {
   "cell_type": "code",
   "execution_count": 63,
   "metadata": {
    "ExecuteTime": {
     "end_time": "2021-01-04T07:56:24.789746Z",
     "start_time": "2021-01-04T07:56:21.990187Z"
    }
   },
   "outputs": [],
   "source": [
    "db = mysql.connect(host=secret['DBHOST'],user=secret['DBUSER'],passwd=secret['DBPASS'],database=secret['DBTABLE'])\n",
    "cursor = db.cursor()\n",
    "query = f'SELECT token_address, token_min, token_max, role_id, role_name FROM discord_rules where guild_id = {guild_id};'\n",
    "cursor.execute(query)\n",
    "records = cursor.fetchall()\n",
    "cursor.close()\n",
    "db.close()\n",
    "#\n",
    "rules = []\n",
    "for record in records:\n",
    "    rule = dict(zip(['token_address', 'token_min', 'token_max', 'role_id', 'role_name'], record))\n",
    "    rules.append(rule)"
   ]
  },
  {
   "cell_type": "code",
   "execution_count": 64,
   "metadata": {
    "ExecuteTime": {
     "end_time": "2021-01-04T07:56:24.847187Z",
     "start_time": "2021-01-04T07:56:24.836414Z"
    }
   },
   "outputs": [
    {
     "data": {
      "text/plain": [
       "[{'token_address': '0x1234',\n",
       "  'token_min': 5,\n",
       "  'token_max': None,\n",
       "  'role_id': '795012514324807682',\n",
       "  'role_name': 'level 1'}]"
      ]
     },
     "execution_count": 64,
     "metadata": {},
     "output_type": "execute_result"
    }
   ],
   "source": [
    "rules"
   ]
  },
  {
   "cell_type": "markdown",
   "metadata": {},
   "source": [
    "## reset rules"
   ]
  },
  {
   "cell_type": "code",
   "execution_count": 81,
   "metadata": {
    "ExecuteTime": {
     "end_time": "2021-01-04T08:17:59.891332Z",
     "start_time": "2021-01-04T08:17:59.886113Z"
    }
   },
   "outputs": [
    {
     "data": {
      "text/plain": [
       "1234"
      ]
     },
     "execution_count": 81,
     "metadata": {},
     "output_type": "execute_result"
    }
   ],
   "source": [
    "guild_id = 1234"
   ]
  },
  {
   "cell_type": "code",
   "execution_count": 83,
   "metadata": {
    "ExecuteTime": {
     "end_time": "2021-01-04T08:18:53.965615Z",
     "start_time": "2021-01-04T08:18:50.847038Z"
    }
   },
   "outputs": [
    {
     "name": "stdout",
     "output_type": "stream",
     "text": [
      "1 record deleted\n"
     ]
    }
   ],
   "source": [
    "db = mysql.connect(host=secret['DBHOST'],user=secret['DBUSER'],passwd=secret['DBPASS'],database=secret['DBTABLE'])\n",
    "cursor = db.cursor()\n",
    "query = \"DELETE from discord_rules where guild_id = %s;\"\n",
    "values = (str(guild_id),)\n",
    "cursor.execute(query, values)\n",
    "db.commit()\n",
    "print(cursor.rowcount, \"record deleted\")\n",
    "cursor.close()\n",
    "db.close()"
   ]
  },
  {
   "cell_type": "markdown",
   "metadata": {},
   "source": [
    "## select users"
   ]
  },
  {
   "cell_type": "code",
   "execution_count": 12,
   "metadata": {
    "ExecuteTime": {
     "end_time": "2021-01-04T14:15:36.562727Z",
     "start_time": "2021-01-04T14:15:34.790122Z"
    }
   },
   "outputs": [],
   "source": [
    "db = mysql.connect(host=secret['DBHOST'],user=secret['DBUSER'],passwd=secret['DBPASS'],database=secret['DBTABLE'])\n",
    "cursor = db.cursor()\n",
    "query = f'SELECT discord_user_id, discord_user_name, ethereum_address FROM discord_user_wallets;'\n",
    "cursor.execute(query)\n",
    "records = cursor.fetchall()\n",
    "cursor.close()\n",
    "db.close()\n",
    "#\n",
    "users = []\n",
    "for record in records:\n",
    "    users.append(dict(zip(['discord_user_id', 'discord_user_name', 'ethereum_address'], record)))"
   ]
  },
  {
   "cell_type": "code",
   "execution_count": 14,
   "metadata": {
    "ExecuteTime": {
     "end_time": "2021-01-04T14:16:30.150654Z",
     "start_time": "2021-01-04T14:16:30.146142Z"
    }
   },
   "outputs": [],
   "source": [
    "user_ids = [u['discord_user_id'] for u in users]"
   ]
  },
  {
   "cell_type": "code",
   "execution_count": 15,
   "metadata": {
    "ExecuteTime": {
     "end_time": "2021-01-04T14:16:32.654624Z",
     "start_time": "2021-01-04T14:16:32.648926Z"
    }
   },
   "outputs": [
    {
     "data": {
      "text/plain": [
       "['519075961891979265']"
      ]
     },
     "execution_count": 15,
     "metadata": {},
     "output_type": "execute_result"
    }
   ],
   "source": [
    "user_ids"
   ]
  },
  {
   "cell_type": "code",
   "execution_count": 13,
   "metadata": {
    "ExecuteTime": {
     "end_time": "2021-01-04T14:15:36.604139Z",
     "start_time": "2021-01-04T14:15:36.596714Z"
    }
   },
   "outputs": [
    {
     "data": {
      "text/plain": [
       "[{'discord_user_id': '519075961891979265',\n",
       "  'discord_user_name': 'Alex Conway#3235',\n",
       "  'ethereum_address': '0x3708045C19c4D0eaB69289F8BC10D4a1fF4EDc6a'}]"
      ]
     },
     "execution_count": 13,
     "metadata": {},
     "output_type": "execute_result"
    }
   ],
   "source": [
    "users"
   ]
  },
  {
   "cell_type": "code",
   "execution_count": null,
   "metadata": {},
   "outputs": [],
   "source": []
  },
  {
   "cell_type": "code",
   "execution_count": null,
   "metadata": {},
   "outputs": [],
   "source": []
  },
  {
   "cell_type": "code",
   "execution_count": null,
   "metadata": {},
   "outputs": [],
   "source": []
  }
 ],
 "metadata": {
  "kernelspec": {
   "display_name": "Python 3",
   "language": "python",
   "name": "python3"
  },
  "language_info": {
   "codemirror_mode": {
    "name": "ipython",
    "version": 3
   },
   "file_extension": ".py",
   "mimetype": "text/x-python",
   "name": "python",
   "nbconvert_exporter": "python",
   "pygments_lexer": "ipython3",
   "version": "3.7.7"
  },
  "varInspector": {
   "cols": {
    "lenName": 16,
    "lenType": 16,
    "lenVar": 40
   },
   "kernels_config": {
    "python": {
     "delete_cmd_postfix": "",
     "delete_cmd_prefix": "del ",
     "library": "var_list.py",
     "varRefreshCmd": "print(var_dic_list())"
    },
    "r": {
     "delete_cmd_postfix": ") ",
     "delete_cmd_prefix": "rm(",
     "library": "var_list.r",
     "varRefreshCmd": "cat(var_dic_list()) "
    }
   },
   "types_to_exclude": [
    "module",
    "function",
    "builtin_function_or_method",
    "instance",
    "_Feature"
   ],
   "window_display": false
  }
 },
 "nbformat": 4,
 "nbformat_minor": 4
}
